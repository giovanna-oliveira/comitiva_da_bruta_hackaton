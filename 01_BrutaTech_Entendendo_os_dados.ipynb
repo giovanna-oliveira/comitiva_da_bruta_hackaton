{
  "nbformat": 4,
  "nbformat_minor": 0,
  "metadata": {
    "colab": {
      "provenance": [],
      "collapsed_sections": [
        "g7V0_WA076TJ",
        "l0nR6unfGJiD"
      ]
    },
    "kernelspec": {
      "display_name": "Python 3",
      "language": "python",
      "name": "python3"
    },
    "language_info": {
      "codemirror_mode": {
        "name": "ipython",
        "version": 3
      },
      "file_extension": ".py",
      "mimetype": "text/x-python",
      "name": "python",
      "nbconvert_exporter": "python",
      "pygments_lexer": "ipython3",
      "version": "3.8.5"
    }
  },
  "cells": [
    {
      "cell_type": "markdown",
      "source": [
        "# Instalação e Pacotes"
      ],
      "metadata": {
        "id": "Cwc4wWx-GdBe"
      }
    },
    {
      "cell_type": "code",
      "source": [
        "!pip install git+https://gitlab.uspdigital.usp.br/acbd/damicore-python3.git"
      ],
      "metadata": {
        "colab": {
          "base_uri": "https://localhost:8080/"
        },
        "id": "w8acJggHHHjR",
        "outputId": "0e96e7e5-6db0-4c4a-9ab0-eb33b81ea462"
      },
      "execution_count": 1,
      "outputs": [
        {
          "output_type": "stream",
          "name": "stdout",
          "text": [
            "Looking in indexes: https://pypi.org/simple, https://us-python.pkg.dev/colab-wheels/public/simple/\n",
            "Collecting git+https://gitlab.uspdigital.usp.br/acbd/damicore-python3.git\n",
            "  Cloning https://gitlab.uspdigital.usp.br/acbd/damicore-python3.git to /tmp/pip-req-build-vmq6fn7t\n",
            "  Running command git clone -q https://gitlab.uspdigital.usp.br/acbd/damicore-python3.git /tmp/pip-req-build-vmq6fn7t\n",
            "Building wheels for collected packages: damicore\n",
            "  Building wheel for damicore (setup.py) ... \u001b[?25l\u001b[?25hdone\n",
            "  Created wheel for damicore: filename=damicore-0.1.0-py3-none-any.whl size=49761 sha256=abef008b6ba8c89be1b097ed6ae9fef4ea0946c671ff2fe52de41c1f5e17437f\n",
            "  Stored in directory: /tmp/pip-ephem-wheel-cache-q5c63l_n/wheels/1a/ab/97/f654651bfea7cc7c428dab21636a9ffca2237a2b0fc83ab765\n",
            "Successfully built damicore\n",
            "Installing collected packages: damicore\n",
            "Successfully installed damicore-0.1.0\n"
          ]
        }
      ]
    },
    {
      "cell_type": "code",
      "source": [
        " !pip install python-igraph"
      ],
      "metadata": {
        "colab": {
          "base_uri": "https://localhost:8080/"
        },
        "id": "yKs4eAU7HR_5",
        "outputId": "d6a3df85-a98c-433d-c05f-475016706a2a"
      },
      "execution_count": 2,
      "outputs": [
        {
          "output_type": "stream",
          "name": "stdout",
          "text": [
            "Looking in indexes: https://pypi.org/simple, https://us-python.pkg.dev/colab-wheels/public/simple/\n",
            "Collecting python-igraph\n",
            "  Downloading python-igraph-0.10.1.tar.gz (9.5 kB)\n",
            "Collecting igraph==0.10.1\n",
            "  Downloading igraph-0.10.1-cp37-cp37m-manylinux_2_17_x86_64.manylinux2014_x86_64.whl (3.2 MB)\n",
            "\u001b[K     |████████████████████████████████| 3.2 MB 2.0 MB/s \n",
            "\u001b[?25hCollecting texttable>=1.6.2\n",
            "  Downloading texttable-1.6.4-py2.py3-none-any.whl (10 kB)\n",
            "Building wheels for collected packages: python-igraph\n",
            "  Building wheel for python-igraph (setup.py) ... \u001b[?25l\u001b[?25hdone\n",
            "  Created wheel for python-igraph: filename=python_igraph-0.10.1-py3-none-any.whl size=9076 sha256=56f94e6fa431d506d0a0957737a833574ab9f302c0a3107c4735709e951fbf49\n",
            "  Stored in directory: /root/.cache/pip/wheels/e2/79/c8/573c0f4e408a66ae133c1aa73c01824cfac9564b6e2b5288e3\n",
            "Successfully built python-igraph\n",
            "Installing collected packages: texttable, igraph, python-igraph\n",
            "Successfully installed igraph-0.10.1 python-igraph-0.10.1 texttable-1.6.4\n"
          ]
        }
      ]
    },
    {
      "cell_type": "code",
      "source": [
        "import pandas as pd"
      ],
      "metadata": {
        "id": "EBRQQ3TnHWYY"
      },
      "execution_count": 3,
      "outputs": []
    },
    {
      "cell_type": "code",
      "source": [
        "import damicore as dm"
      ],
      "metadata": {
        "id": "IJcxNIa-STSO"
      },
      "execution_count": 4,
      "outputs": []
    },
    {
      "cell_type": "code",
      "source": [
        "!pip install cairocffi #to run igraph drawing utilities "
      ],
      "metadata": {
        "colab": {
          "base_uri": "https://localhost:8080/"
        },
        "id": "MNOgG9hvcih3",
        "outputId": "12fdac88-0137-455b-b05e-e2180bac65ad"
      },
      "execution_count": 5,
      "outputs": [
        {
          "output_type": "stream",
          "name": "stdout",
          "text": [
            "Looking in indexes: https://pypi.org/simple, https://us-python.pkg.dev/colab-wheels/public/simple/\n",
            "Collecting cairocffi\n",
            "  Downloading cairocffi-1.4.0.tar.gz (69 kB)\n",
            "\u001b[K     |████████████████████████████████| 69 kB 1.9 MB/s \n",
            "\u001b[?25hRequirement already satisfied: cffi>=1.1.0 in /usr/local/lib/python3.7/dist-packages (from cairocffi) (1.15.1)\n",
            "Requirement already satisfied: pycparser in /usr/local/lib/python3.7/dist-packages (from cffi>=1.1.0->cairocffi) (2.21)\n",
            "Building wheels for collected packages: cairocffi\n",
            "  Building wheel for cairocffi (setup.py) ... \u001b[?25l\u001b[?25hdone\n",
            "  Created wheel for cairocffi: filename=cairocffi-1.4.0-py3-none-any.whl size=88775 sha256=7c3bc0c04af43435b11f523db2eccbb7a201a3f2ad445eba208ab5a14b1fe801\n",
            "  Stored in directory: /root/.cache/pip/wheels/7a/2b/da/aec872f95d2c24105496ef149a9a576f52daf686f8f2127541\n",
            "Successfully built cairocffi\n",
            "Installing collected packages: cairocffi\n",
            "Successfully installed cairocffi-1.4.0\n"
          ]
        }
      ]
    },
    {
      "cell_type": "code",
      "source": [],
      "metadata": {
        "id": "f-MjVrfNfpvH"
      },
      "execution_count": null,
      "outputs": []
    },
    {
      "cell_type": "markdown",
      "source": [
        "# Lendo CSV para preparar para DAMICORE"
      ],
      "metadata": {
        "id": "POQ_HpGWbFD7"
      }
    },
    {
      "cell_type": "code",
      "source": [
        "from google.colab import drive\n",
        "drive.mount('/content/drive')"
      ],
      "metadata": {
        "colab": {
          "base_uri": "https://localhost:8080/"
        },
        "id": "UWuaaPZqfvNZ",
        "outputId": "816adaa5-8e12-41ec-fd16-d9e60a019893"
      },
      "execution_count": 6,
      "outputs": [
        {
          "output_type": "stream",
          "name": "stdout",
          "text": [
            "Mounted at /content/drive\n"
          ]
        }
      ]
    },
    {
      "cell_type": "code",
      "source": [
        "import glob\n",
        "# All files and directories ending with .txt and that don't begin with a dot:\n",
        "files_path = glob.glob(\"/content/drive/MyDrive/dados_csv_maravilhoso/*.csv\")"
      ],
      "metadata": {
        "id": "0uLN7hwZfksI"
      },
      "execution_count": 9,
      "outputs": []
    },
    {
      "cell_type": "code",
      "source": [
        "files_path"
      ],
      "metadata": {
        "colab": {
          "base_uri": "https://localhost:8080/"
        },
        "id": "4lA_WJTigDHG",
        "outputId": "a374a411-33f7-45fd-da7e-a49ec102a2ab"
      },
      "execution_count": 10,
      "outputs": [
        {
          "output_type": "execute_result",
          "data": {
            "text/plain": [
              "['/content/drive/MyDrive/dados_csv_maravilhoso/accounts-accounts.csv',\n",
              " '/content/drive/MyDrive/dados_csv_maravilhoso/accounts-balances.csv',\n",
              " '/content/drive/MyDrive/dados_csv_maravilhoso/accounts-details.csv',\n",
              " '/content/drive/MyDrive/dados_csv_maravilhoso/accounts-overdraft-limits.csv',\n",
              " '/content/drive/MyDrive/dados_csv_maravilhoso/credit-cards.csv',\n",
              " '/content/drive/MyDrive/dados_csv_maravilhoso/credit-cards-bills.csv',\n",
              " '/content/drive/MyDrive/dados_csv_maravilhoso/credit-cards-details.csv',\n",
              " '/content/drive/MyDrive/dados_csv_maravilhoso/credit-cards-limits.csv',\n",
              " '/content/drive/MyDrive/dados_csv_maravilhoso/financial-relation.csv',\n",
              " '/content/drive/MyDrive/dados_csv_maravilhoso/financings-contracts.csv',\n",
              " '/content/drive/MyDrive/dados_csv_maravilhoso/financings-details.csv',\n",
              " '/content/drive/MyDrive/dados_csv_maravilhoso/financings-payments.csv',\n",
              " '/content/drive/MyDrive/dados_csv_maravilhoso/financings-scheduled-instalments.csv',\n",
              " '/content/drive/MyDrive/dados_csv_maravilhoso/financings-warranties.csv',\n",
              " '/content/drive/MyDrive/dados_csv_maravilhoso/loans-contracts.csv',\n",
              " '/content/drive/MyDrive/dados_csv_maravilhoso/loans-details.csv',\n",
              " '/content/drive/MyDrive/dados_csv_maravilhoso/loans-payments.csv',\n",
              " '/content/drive/MyDrive/dados_csv_maravilhoso/loans-scheduled-instalments.csv',\n",
              " '/content/drive/MyDrive/dados_csv_maravilhoso/loans-warranties.csv',\n",
              " '/content/drive/MyDrive/dados_csv_maravilhoso/personal-identification.csv',\n",
              " '/content/drive/MyDrive/dados_csv_maravilhoso/personal-qualification.csv',\n",
              " '/content/drive/MyDrive/dados_csv_maravilhoso/credit-cards-transactions.csv',\n",
              " '/content/drive/MyDrive/dados_csv_maravilhoso/credit-cards-bills-transactions.csv',\n",
              " '/content/drive/MyDrive/dados_csv_maravilhoso/accounts-transactions.csv']"
            ]
          },
          "metadata": {},
          "execution_count": 10
        }
      ]
    },
    {
      "cell_type": "code",
      "source": [
        "for f in files_path:\n",
        "  df = pd.read_csv(f)\n",
        "  #df.drop(columns=['Unnamed: 0'], inplace=True, axis=1)\n",
        "  df = df.sample(frac=0.3,replace=True, random_state=1)\n",
        "  aux_name = f.replace(\"/content/drive/MyDrive/dados_csv_maravilhoso/\", \"\")\n",
        "  #aux_name = aux_name.replace(\".csv\", \"\")\n",
        "\n",
        "  for col in range(len(df.columns)):\n",
        "    df_Col = df.iloc[:, col]\n",
        "\n",
        "    name = \"/content/dados_limpos/\"+aux_name + '_' + df.columns[col].replace('/', '') + '.csv'\n",
        "    df_Col.to_csv(name, index=False)"
      ],
      "metadata": {
        "id": "vVZtzNlObL6Q"
      },
      "execution_count": 16,
      "outputs": []
    },
    {
      "cell_type": "markdown",
      "source": [
        "# Analisando os dados e entendendo as relações entre os atributos\n",
        "https://gitlab.uspdigital.usp.br/acbd/damicore-python3\n",
        "\n",
        "DAMICORE é um método de aprendizado de máquina não supervisionado que combina técnicas da teoria da informação, filogenética e rede complexa. Damicore-Py é uma implementação alternativa escrita em Python.\n",
        "\n",
        "Vou utilizar o DAMICORE para descobrir o relacionamentos e ligação entre os atributos. Sem ter conhecimento dos dados e suas relações. Para analisar o peso de cada atributo o DAMICORE, precisa receber os dados de cada tabela quebrado em um arquivo. Cada coluna do arquivo precisa ser transformado em um arquivo. Assim ele conseguirá analisar por partes e montar a árvores com suas relações na árvore filogenética."
      ],
      "metadata": {
        "id": "l0nR6unfGJiD"
      }
    },
    {
      "cell_type": "code",
      "source": [
        "import numpy as np\n",
        "import pandas as pd\n",
        "import pickle\n",
        "import os\n",
        "import csv"
      ],
      "metadata": {
        "id": "5yOgwpINWuI6"
      },
      "execution_count": 17,
      "outputs": []
    },
    {
      "cell_type": "code",
      "source": [
        "os.getcwd()"
      ],
      "metadata": {
        "id": "kSDNkio2XkpB",
        "colab": {
          "base_uri": "https://localhost:8080/",
          "height": 35
        },
        "outputId": "bd6969b3-7f9b-4a0f-f759-ce72b8e2d272"
      },
      "execution_count": 21,
      "outputs": [
        {
          "output_type": "execute_result",
          "data": {
            "text/plain": [
              "'/content'"
            ],
            "application/vnd.google.colaboratory.intrinsic+json": {
              "type": "string"
            }
          },
          "metadata": {},
          "execution_count": 21
        }
      ]
    },
    {
      "cell_type": "code",
      "source": [
        "from google.colab import drive\n",
        "drive.mount('/content/drive')"
      ],
      "metadata": {
        "id": "E7tDNCbw43h0",
        "colab": {
          "base_uri": "https://localhost:8080/"
        },
        "outputId": "1e03a408-3e71-4993-c155-0b2b450b6336"
      },
      "execution_count": 22,
      "outputs": [
        {
          "output_type": "stream",
          "name": "stdout",
          "text": [
            "Drive already mounted at /content/drive; to attempt to forcibly remount, call drive.mount(\"/content/drive\", force_remount=True).\n"
          ]
        }
      ]
    },
    {
      "cell_type": "code",
      "source": [
        "#Movi a pasta analisecredit para os arquivos ficarem no drive\n",
        "#/content/drive/MyDrive/analisecredit"
      ],
      "metadata": {
        "id": "IJAicFB5KliA"
      },
      "execution_count": null,
      "outputs": []
    },
    {
      "cell_type": "code",
      "metadata": {
        "id": "X3Ewh8SvD3a8",
        "colab": {
          "base_uri": "https://localhost:8080/"
        },
        "outputId": "012bb2d7-2cb4-4fe4-89e9-3ad793dab513"
      },
      "source": [
        "cd /usr/local/lib/python3.7/dist-packages/damicore"
      ],
      "execution_count": 24,
      "outputs": [
        {
          "output_type": "stream",
          "name": "stdout",
          "text": [
            "/usr/local/lib/python3.7/dist-packages/damicore\n"
          ]
        }
      ]
    },
    {
      "cell_type": "code",
      "source": [
        "cd /usr/local/lib/python3.7/dist-packages/damicore"
      ],
      "metadata": {
        "id": "8-XM8ri0mBmJ",
        "colab": {
          "base_uri": "https://localhost:8080/"
        },
        "outputId": "b5c21d4f-f7f3-42fb-d4b1-9cadc8ef15a1"
      },
      "execution_count": 25,
      "outputs": [
        {
          "output_type": "stream",
          "name": "stdout",
          "text": [
            "/usr/local/lib/python3.7/dist-packages/damicore\n"
          ]
        }
      ]
    },
    {
      "cell_type": "code",
      "source": [
        "run damicore.py --compressor gzip  --tree-output credito.newick /content/dados_limpos/"
      ],
      "metadata": {
        "id": "K4_JovdmngPl",
        "colab": {
          "base_uri": "https://localhost:8080/"
        },
        "outputId": "0e45be7a-9b69-4fb0-b3ad-fdb554b17993"
      },
      "execution_count": null,
      "outputs": [
        {
          "output_type": "stream",
          "name": "stderr",
          "text": [
            "Performing NCD distance matrix calculation...\n",
            "Compressing individual sources...\n",
            "Compressing source pairs...\n"
          ]
        }
      ]
    },
    {
      "cell_type": "code",
      "metadata": {
        "id": "hP7iocJWE5zk"
      },
      "source": [
        "cat /usr/local/lib/python3.7/dist-packages/damicore/credito.newick"
      ],
      "execution_count": null,
      "outputs": []
    },
    {
      "cell_type": "code",
      "metadata": {
        "id": "pWtOH7QAsxu6"
      },
      "source": [
        "pip install ete3"
      ],
      "execution_count": null,
      "outputs": []
    },
    {
      "cell_type": "code",
      "metadata": {
        "id": "L7OeTHeMs1xq"
      },
      "source": [
        "from ete3 import Tree"
      ],
      "execution_count": null,
      "outputs": []
    },
    {
      "cell_type": "code",
      "metadata": {
        "id": "9Od4jLQas9Iy"
      },
      "source": [
        " # Load a tree structure from a newick file.\n",
        "tbest = Tree(\"credito.newick\", quoted_node_names=True) #m.newick corresponds to all dataset - no selection of samples"
      ],
      "execution_count": null,
      "outputs": []
    },
    {
      "cell_type": "code",
      "metadata": {
        "id": "MLDa0wcwtVWx"
      },
      "source": [
        "print(tbest)"
      ],
      "execution_count": null,
      "outputs": []
    }
  ]
}